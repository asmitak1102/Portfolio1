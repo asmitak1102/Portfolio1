{
 "cells": [
  {
   "cell_type": "markdown",
   "id": "skHfgkqlqndO",
   "metadata": {
    "id": "skHfgkqlqndO"
   },
   "source": [
    "### Analysis of an E-commerce Dataset\n",
    "\n",
    "We have been provided with a combined e-commerce dataset. In this dataset, each user has the ability to post a rating and review for the products they purchased. Additionally, other users can evaluate the initial rating and review by expressing their trust or distrust.\n",
    "\n",
    "This dataset includes a wealth of information for each user. Details such as their profile, ID, gender, city of birth, product ratings (on a scale of 1-5), reviews, and the prices of the products they purchased are all included. Moreover, for each product rating, we have information about the product name, ID, price, and category, the rating score, the timestamp of the rating and review, and the average helpfulness of the rating given by others (on a scale of 1-5).\n",
    "\n",
    "The dataset is from several data sources, and we have merged all the data into a single CSV file named 'A Combined E-commerce Dataset.csv'. The structure of this dataset is represented in the header shown below.\n",
    "\n",
    "| userId | gender | rating | review| item | category | helpfulness | timestamp | item_id | item_price | user_city|\n",
    "\n",
    "    | ---- | ---- | ---- | ---- | ---- | ---- | ---- | ---- | ---- |  ---- |  ---- |  \n",
    "    \n",
    "#### Description of Fields\n",
    "\n",
    "* __userId__ - the user's id\n",
    "* __gender__ - the user's gender\n",
    "* __rating__ - the user's rating towards the item\n",
    "* __review__ - the user's review towards the item\n",
    "* __item__ - the item's name\n",
    "* __category__ - the category of the item\n",
    "* __helpfulness__ - the average helpfulness of this rating\n",
    "* __timestamp__ - the timestamp when the rating is created\n",
    "* __item_id__ - the item's id\n",
    "* __item_price__ - the item's price\n",
    "* __user_city__ - the city of user's birth\n",
    "\n",
    "Note that, a user may rate multiple items and an item may receive ratings and reviews from multiple users. The \"helpfulness\" is an average value based on all the helpfulness values given by others.\n",
    "\n",
    "There are four questions to explore with the data as shown below.\n",
    "\n",
    "\n",
    "\n",
    "<img src=\"data-relation.png\" align=\"left\" width=\"400\"/>\n",
    "(You can find the data relation diagram on iLearn - Portfolio Part 1 resources - Fig1)\n"
   ]
  },
  {
   "cell_type": "code",
   "execution_count": 26,
   "id": "7651aa35",
   "metadata": {},
   "outputs": [],
   "source": [
    "import pandas as pd\n",
    "import numpy as np\n",
    "import matplotlib.pyplot as plt\n",
    "%matplotlib inline"
   ]
  },
  {
   "cell_type": "markdown",
   "id": "-tb7B7VTqndQ",
   "metadata": {
    "id": "-tb7B7VTqndQ"
   },
   "source": [
    " #### Q1. Remove missing data\n",
    "\n",
    "Please remove the following records in the csv file:\n",
    "\n",
    " * gender/rating/helpfulness is missing\n",
    " * review is 'none'\n",
    "\n",
    "__Display the DataFrame, counting number of Null values in each column, and print the length of the data__ before and after removing the missing data.  "
   ]
  },
  {
   "cell_type": "code",
   "execution_count": 27,
   "id": "1ecn6H9VqndQ",
   "metadata": {
    "id": "1ecn6H9VqndQ",
    "scrolled": true
   },
   "outputs": [
    {
     "data": {
      "text/html": [
       "<div>\n",
       "<style scoped>\n",
       "    .dataframe tbody tr th:only-of-type {\n",
       "        vertical-align: middle;\n",
       "    }\n",
       "\n",
       "    .dataframe tbody tr th {\n",
       "        vertical-align: top;\n",
       "    }\n",
       "\n",
       "    .dataframe thead th {\n",
       "        text-align: right;\n",
       "    }\n",
       "</style>\n",
       "<table border=\"1\" class=\"dataframe\">\n",
       "  <thead>\n",
       "    <tr style=\"text-align: right;\">\n",
       "      <th></th>\n",
       "      <th>userId</th>\n",
       "      <th>timestamp</th>\n",
       "      <th>review</th>\n",
       "      <th>item</th>\n",
       "      <th>rating</th>\n",
       "      <th>helpfulness</th>\n",
       "      <th>gender</th>\n",
       "      <th>category</th>\n",
       "      <th>item_id</th>\n",
       "      <th>item_price</th>\n",
       "      <th>user_city</th>\n",
       "    </tr>\n",
       "  </thead>\n",
       "  <tbody>\n",
       "    <tr>\n",
       "      <th>0</th>\n",
       "      <td>4051</td>\n",
       "      <td>12807</td>\n",
       "      <td>Great job for what it is!</td>\n",
       "      <td>eBay</td>\n",
       "      <td>5.0</td>\n",
       "      <td>2.0</td>\n",
       "      <td>F</td>\n",
       "      <td>Online Stores &amp; Services</td>\n",
       "      <td>88</td>\n",
       "      <td>149.00</td>\n",
       "      <td>39</td>\n",
       "    </tr>\n",
       "    <tr>\n",
       "      <th>1</th>\n",
       "      <td>4052</td>\n",
       "      <td>122899</td>\n",
       "      <td>Free Access Worth your Time</td>\n",
       "      <td>NetZero</td>\n",
       "      <td>5.0</td>\n",
       "      <td>0.0</td>\n",
       "      <td>F</td>\n",
       "      <td>Online Stores &amp; Services</td>\n",
       "      <td>46</td>\n",
       "      <td>53.00</td>\n",
       "      <td>39</td>\n",
       "    </tr>\n",
       "    <tr>\n",
       "      <th>2</th>\n",
       "      <td>33</td>\n",
       "      <td>12700</td>\n",
       "      <td>AOL..I love you!!!!!!!!!!!!</td>\n",
       "      <td>AOL (America Online)</td>\n",
       "      <td>5.0</td>\n",
       "      <td>4.0</td>\n",
       "      <td>F</td>\n",
       "      <td>Online Stores &amp; Services</td>\n",
       "      <td>0</td>\n",
       "      <td>145.84</td>\n",
       "      <td>31</td>\n",
       "    </tr>\n",
       "    <tr>\n",
       "      <th>3</th>\n",
       "      <td>33</td>\n",
       "      <td>21000</td>\n",
       "      <td>EBAY!!!  I LOVE YOU!!!! :-)*</td>\n",
       "      <td>eBay</td>\n",
       "      <td>5.0</td>\n",
       "      <td>4.0</td>\n",
       "      <td>F</td>\n",
       "      <td>Online Stores &amp; Services</td>\n",
       "      <td>88</td>\n",
       "      <td>149.00</td>\n",
       "      <td>31</td>\n",
       "    </tr>\n",
       "    <tr>\n",
       "      <th>4</th>\n",
       "      <td>33</td>\n",
       "      <td>22300</td>\n",
       "      <td>Blair Witch...Oh Come On.......</td>\n",
       "      <td>Blair Witch Project</td>\n",
       "      <td>1.0</td>\n",
       "      <td>4.0</td>\n",
       "      <td>F</td>\n",
       "      <td>Movies</td>\n",
       "      <td>12</td>\n",
       "      <td>44.00</td>\n",
       "      <td>31</td>\n",
       "    </tr>\n",
       "    <tr>\n",
       "      <th>...</th>\n",
       "      <td>...</td>\n",
       "      <td>...</td>\n",
       "      <td>...</td>\n",
       "      <td>...</td>\n",
       "      <td>...</td>\n",
       "      <td>...</td>\n",
       "      <td>...</td>\n",
       "      <td>...</td>\n",
       "      <td>...</td>\n",
       "      <td>...</td>\n",
       "      <td>...</td>\n",
       "    </tr>\n",
       "    <tr>\n",
       "      <th>19995</th>\n",
       "      <td>10805</td>\n",
       "      <td>50600</td>\n",
       "      <td>The Upper Class Fast Food</td>\n",
       "      <td>Wendy's</td>\n",
       "      <td>2.0</td>\n",
       "      <td>3.0</td>\n",
       "      <td>F</td>\n",
       "      <td>Restaurants &amp; Gourmet</td>\n",
       "      <td>84</td>\n",
       "      <td>69.00</td>\n",
       "      <td>18</td>\n",
       "    </tr>\n",
       "    <tr>\n",
       "      <th>19996</th>\n",
       "      <td>10806</td>\n",
       "      <td>82201</td>\n",
       "      <td>What more can you ask for????</td>\n",
       "      <td>Olive Garden</td>\n",
       "      <td>4.0</td>\n",
       "      <td>0.0</td>\n",
       "      <td>M</td>\n",
       "      <td>Restaurants &amp; Gourmet</td>\n",
       "      <td>49</td>\n",
       "      <td>32.00</td>\n",
       "      <td>28</td>\n",
       "    </tr>\n",
       "    <tr>\n",
       "      <th>19997</th>\n",
       "      <td>10806</td>\n",
       "      <td>82201</td>\n",
       "      <td>Excellent steak for a good price</td>\n",
       "      <td>Outback Steakhouse</td>\n",
       "      <td>4.0</td>\n",
       "      <td>3.0</td>\n",
       "      <td>M</td>\n",
       "      <td>Restaurants &amp; Gourmet</td>\n",
       "      <td>50</td>\n",
       "      <td>25.00</td>\n",
       "      <td>28</td>\n",
       "    </tr>\n",
       "    <tr>\n",
       "      <th>19998</th>\n",
       "      <td>10807</td>\n",
       "      <td>31504</td>\n",
       "      <td>Different story world</td>\n",
       "      <td>J. K. Rowling - Harry Potter and the Sorcerer'...</td>\n",
       "      <td>4.0</td>\n",
       "      <td>0.0</td>\n",
       "      <td>M</td>\n",
       "      <td>Books</td>\n",
       "      <td>36</td>\n",
       "      <td>96.00</td>\n",
       "      <td>27</td>\n",
       "    </tr>\n",
       "    <tr>\n",
       "      <th>19999</th>\n",
       "      <td>10808</td>\n",
       "      <td>10200</td>\n",
       "      <td>Boldly Displaying Sigourneys Cleavage ..</td>\n",
       "      <td>Galaxy Quest</td>\n",
       "      <td>4.0</td>\n",
       "      <td>0.0</td>\n",
       "      <td>M</td>\n",
       "      <td>Movies</td>\n",
       "      <td>29</td>\n",
       "      <td>67.00</td>\n",
       "      <td>11</td>\n",
       "    </tr>\n",
       "  </tbody>\n",
       "</table>\n",
       "<p>20000 rows × 11 columns</p>\n",
       "</div>"
      ],
      "text/plain": [
       "       userId  timestamp                                    review  \\\n",
       "0        4051      12807                 Great job for what it is!   \n",
       "1        4052     122899               Free Access Worth your Time   \n",
       "2          33      12700             AOL..I love you!!!!!!!!!!!!     \n",
       "3          33      21000              EBAY!!!  I LOVE YOU!!!! :-)*   \n",
       "4          33      22300           Blair Witch...Oh Come On.......   \n",
       "...       ...        ...                                       ...   \n",
       "19995   10805      50600                 The Upper Class Fast Food   \n",
       "19996   10806      82201             What more can you ask for????   \n",
       "19997   10806      82201          Excellent steak for a good price   \n",
       "19998   10807      31504                     Different story world   \n",
       "19999   10808      10200  Boldly Displaying Sigourneys Cleavage ..   \n",
       "\n",
       "                                                    item  rating  helpfulness  \\\n",
       "0                                                   eBay     5.0          2.0   \n",
       "1                                                NetZero     5.0          0.0   \n",
       "2                                   AOL (America Online)     5.0          4.0   \n",
       "3                                                   eBay     5.0          4.0   \n",
       "4                                    Blair Witch Project     1.0          4.0   \n",
       "...                                                  ...     ...          ...   \n",
       "19995                                            Wendy's     2.0          3.0   \n",
       "19996                                       Olive Garden     4.0          0.0   \n",
       "19997                                 Outback Steakhouse     4.0          3.0   \n",
       "19998  J. K. Rowling - Harry Potter and the Sorcerer'...     4.0          0.0   \n",
       "19999                                       Galaxy Quest     4.0          0.0   \n",
       "\n",
       "      gender                  category  item_id  item_price  user_city  \n",
       "0          F  Online Stores & Services       88      149.00         39  \n",
       "1          F  Online Stores & Services       46       53.00         39  \n",
       "2          F  Online Stores & Services        0      145.84         31  \n",
       "3          F  Online Stores & Services       88      149.00         31  \n",
       "4          F                    Movies       12       44.00         31  \n",
       "...      ...                       ...      ...         ...        ...  \n",
       "19995      F     Restaurants & Gourmet       84       69.00         18  \n",
       "19996      M     Restaurants & Gourmet       49       32.00         28  \n",
       "19997      M     Restaurants & Gourmet       50       25.00         28  \n",
       "19998      M                     Books       36       96.00         27  \n",
       "19999      M                    Movies       29       67.00         11  \n",
       "\n",
       "[20000 rows x 11 columns]"
      ]
     },
     "execution_count": 27,
     "metadata": {},
     "output_type": "execute_result"
    }
   ],
   "source": [
    "origin_df = pd.read_csv('/Users/asmitakulkarni/Downloads/The E-commerce Dataset.csv')\n",
    "origin_df"
   ]
  },
  {
   "cell_type": "code",
   "execution_count": 28,
   "id": "807ab6ee",
   "metadata": {},
   "outputs": [
    {
     "name": "stdout",
     "output_type": "stream",
     "text": [
      "the length before removing missing data is 20000\n"
     ]
    }
   ],
   "source": [
    "print('the length before removing missing data is' , len(origin_df))"
   ]
  },
  {
   "cell_type": "code",
   "execution_count": 29,
   "id": "ac9bc934",
   "metadata": {},
   "outputs": [
    {
     "name": "stdout",
     "output_type": "stream",
     "text": [
      "Count of \"none\" data is  18\n"
     ]
    }
   ],
   "source": [
    "# Creating a copy of the original DataFrame\n",
    "clean_df_occ = origin_df\n",
    "\n",
    "# Initializing a count variable to count occurrences of reviews with 'none'\n",
    "count = 0\n",
    "\n",
    "# Iterating through each row in the DataFrame\n",
    "for index, row in clean_df_occ.iterrows():\n",
    "    # Checking if the review is 'none'\n",
    "    if row['review'] == 'none':\n",
    "        count += 1  # Incrementing count if review is 'none'\n",
    "\n",
    "print('Count of \"none\" data is ',(count))\n",
    "\n",
    "# Dropping rows where the review is 'none'\n",
    "clean_df_occ = clean_df_occ.drop(clean_df_occ[clean_df_occ['review'] == 'none'].index)"
   ]
  },
  {
   "cell_type": "markdown",
   "id": "EJG9_LEmqndR",
   "metadata": {
    "id": "EJG9_LEmqndR"
   },
   "source": [
    "#### Q2. Descriptive statistics\n",
    "\n",
    "With the cleaned data in Q1, please provide the data summarization as below:\n",
    "\n",
    "* Q2.1 total number of unique users, unique reviews, unique items, and unique categories\n",
    "* Q2.2 descriptive statistics, e.g., the total number, mean, std, min and max regarding all rating records\n",
    "* Q2.3 descriptive statistics, e.g., mean, std, max, and min of the number of items rated by different genders\n",
    "* Q2.4 descriptive statistics, e.g., mean, std, max, min of the number of ratings that received by each items\n"
   ]
  },
  {
   "cell_type": "code",
   "execution_count": 30,
   "id": "-fiucmwsqndR",
   "metadata": {
    "id": "-fiucmwsqndR"
   },
   "outputs": [
    {
     "name": "stdout",
     "output_type": "stream",
     "text": [
      "the number of unique users is 8562\n",
      "the number of unique reviews is 19459\n",
      "the number of unique items is 89\n",
      "the number of unique categories is 9\n"
     ]
    }
   ],
   "source": [
    "#Q2.1\n",
    "\n",
    "# Getting unique user IDs from the 'userId' column in the clean_df DataFrame\n",
    "user_array = clean_df['userId'].unique()\n",
    "\n",
    "# Printing the number of unique users by determining the size of the user_array\n",
    "print('the number of unique users is', user_array.size)\n",
    "\n",
    "# Getting unique reviews from the 'review' column in the clean_df DataFrame\n",
    "occupation_array = clean_df['review'].unique()\n",
    "\n",
    "# Printing the number of unique reviews by determining the size of the occupation_array\n",
    "print('the number of unique reviews is', occupation_array.size)\n",
    "\n",
    "# Getting unique items from the 'item' column in the clean_df DataFrame\n",
    "movie_array = clean_df['item'].unique()\n",
    "\n",
    "# Printing the number of unique items by determining the size of the movie_array\n",
    "print('the number of unique items is', movie_array.size)\n",
    "\n",
    "# Getting unique categories from the 'category' column in the clean_df DataFrame\n",
    "genre_array = clean_df['category'].unique()\n",
    "\n",
    "# Printing the number of unique categories by determining the size of the genre_array\n",
    "print('the number of unique categories is', genre_array.size)"
   ]
  },
  {
   "cell_type": "code",
   "execution_count": 31,
   "id": "2ab30136",
   "metadata": {},
   "outputs": [
    {
     "data": {
      "text/plain": [
       "count    19916.000000\n",
       "mean         3.701798\n",
       "std          1.404451\n",
       "min          1.000000\n",
       "25%          3.000000\n",
       "50%          4.000000\n",
       "75%          5.000000\n",
       "max          5.000000\n",
       "Name: rating, dtype: float64"
      ]
     },
     "execution_count": 31,
     "metadata": {},
     "output_type": "execute_result"
    }
   ],
   "source": [
    "#Q2.2\n",
    "clean_df['rating'].describe()"
   ]
  },
  {
   "cell_type": "code",
   "execution_count": 32,
   "id": "12be46bc",
   "metadata": {},
   "outputs": [
    {
     "data": {
      "text/html": [
       "<div>\n",
       "<style scoped>\n",
       "    .dataframe tbody tr th:only-of-type {\n",
       "        vertical-align: middle;\n",
       "    }\n",
       "\n",
       "    .dataframe tbody tr th {\n",
       "        vertical-align: top;\n",
       "    }\n",
       "\n",
       "    .dataframe thead th {\n",
       "        text-align: right;\n",
       "    }\n",
       "</style>\n",
       "<table border=\"1\" class=\"dataframe\">\n",
       "  <thead>\n",
       "    <tr style=\"text-align: right;\">\n",
       "      <th></th>\n",
       "      <th>gender</th>\n",
       "      <th>count</th>\n",
       "    </tr>\n",
       "  </thead>\n",
       "  <tbody>\n",
       "    <tr>\n",
       "      <th>0</th>\n",
       "      <td>F</td>\n",
       "      <td>9793</td>\n",
       "    </tr>\n",
       "    <tr>\n",
       "      <th>1</th>\n",
       "      <td>M</td>\n",
       "      <td>10123</td>\n",
       "    </tr>\n",
       "  </tbody>\n",
       "</table>\n",
       "</div>"
      ],
      "text/plain": [
       "  gender  count\n",
       "0      F   9793\n",
       "1      M  10123"
      ]
     },
     "execution_count": 32,
     "metadata": {},
     "output_type": "execute_result"
    }
   ],
   "source": [
    "#Q2.3\n",
    "# Group users by their genders and then count the number of items rated by each gender\n",
    "gender_item_num = clean_df.groupby(['gender'])['item'].count().reset_index(name='count')\n",
    "gender_item_num.head()"
   ]
  },
  {
   "cell_type": "code",
   "execution_count": 33,
   "id": "4a956ac8",
   "metadata": {},
   "outputs": [
    {
     "data": {
      "text/plain": [
       "count        2.000000\n",
       "mean      9958.000000\n",
       "std        233.345238\n",
       "min       9793.000000\n",
       "25%       9875.500000\n",
       "50%       9958.000000\n",
       "75%      10040.500000\n",
       "max      10123.000000\n",
       "Name: count, dtype: float64"
      ]
     },
     "execution_count": 33,
     "metadata": {},
     "output_type": "execute_result"
    }
   ],
   "source": [
    "gender_item_num['count'].describe()"
   ]
  },
  {
   "cell_type": "code",
   "execution_count": 34,
   "id": "b2bc3493",
   "metadata": {},
   "outputs": [
    {
     "data": {
      "text/html": [
       "<div>\n",
       "<style scoped>\n",
       "    .dataframe tbody tr th:only-of-type {\n",
       "        vertical-align: middle;\n",
       "    }\n",
       "\n",
       "    .dataframe tbody tr th {\n",
       "        vertical-align: top;\n",
       "    }\n",
       "\n",
       "    .dataframe thead th {\n",
       "        text-align: right;\n",
       "    }\n",
       "</style>\n",
       "<table border=\"1\" class=\"dataframe\">\n",
       "  <thead>\n",
       "    <tr style=\"text-align: right;\">\n",
       "      <th></th>\n",
       "      <th>item</th>\n",
       "      <th>count</th>\n",
       "    </tr>\n",
       "  </thead>\n",
       "  <tbody>\n",
       "    <tr>\n",
       "      <th>0</th>\n",
       "      <td>AOL (America Online)</td>\n",
       "      <td>939</td>\n",
       "    </tr>\n",
       "    <tr>\n",
       "      <th>1</th>\n",
       "      <td>All Advantage</td>\n",
       "      <td>657</td>\n",
       "    </tr>\n",
       "    <tr>\n",
       "      <th>2</th>\n",
       "      <td>Alta Vista (by 1stUp)</td>\n",
       "      <td>157</td>\n",
       "    </tr>\n",
       "    <tr>\n",
       "      <th>3</th>\n",
       "      <td>Amazon.com</td>\n",
       "      <td>240</td>\n",
       "    </tr>\n",
       "    <tr>\n",
       "      <th>4</th>\n",
       "      <td>American Airlines</td>\n",
       "      <td>185</td>\n",
       "    </tr>\n",
       "  </tbody>\n",
       "</table>\n",
       "</div>"
      ],
      "text/plain": [
       "                    item  count\n",
       "0   AOL (America Online)    939\n",
       "1          All Advantage    657\n",
       "2  Alta Vista (by 1stUp)    157\n",
       "3             Amazon.com    240\n",
       "4      American Airlines    185"
      ]
     },
     "execution_count": 34,
     "metadata": {},
     "output_type": "execute_result"
    }
   ],
   "source": [
    "#Q2.4\n",
    "# Group items by their names and then count the number of users rated the item\n",
    "rated_item_num = clean_df.groupby(['item'])['rating'].count().reset_index(name='count')\n",
    "rated_item_num.head()"
   ]
  },
  {
   "cell_type": "code",
   "execution_count": 35,
   "id": "02516ca1",
   "metadata": {},
   "outputs": [
    {
     "data": {
      "text/plain": [
       "count     89.000000\n",
       "mean     223.775281\n",
       "std      116.418988\n",
       "min      139.000000\n",
       "25%      162.000000\n",
       "50%      187.000000\n",
       "75%      245.000000\n",
       "max      939.000000\n",
       "Name: count, dtype: float64"
      ]
     },
     "execution_count": 35,
     "metadata": {},
     "output_type": "execute_result"
    }
   ],
   "source": [
    "rated_item_num['count'].describe()"
   ]
  },
  {
   "cell_type": "markdown",
   "id": "PISggxe5qndR",
   "metadata": {
    "id": "PISggxe5qndR"
   },
   "source": [
    "#### Q3. Plotting and Analysis\n",
    "\n",
    "Please try to explore the correlation between gender/helpfulness/category and ratings; for instance, do female/male users tend to provide higher ratings than male/female users? Hint: you may use the boxplot function to plot figures for comparison (___Challenge___)\n",
    "    \n",
    "You may need to select the most suitable graphic forms for ease of presentation. Most importantly, for each figure or subfigure, please summarise ___what each plot shows___ (i.e. observations and explanations). Finally, you may need to provide an overall summary of the data."
   ]
  },
  {
   "cell_type": "code",
   "execution_count": 36,
   "id": "Zyuvw_WlqndR",
   "metadata": {
    "id": "Zyuvw_WlqndR"
   },
   "outputs": [
    {
     "data": {
      "text/plain": [
       "(array([1, 2]), [Text(1, 0, 'F'), Text(2, 0, 'M')])"
      ]
     },
     "execution_count": 36,
     "metadata": {},
     "output_type": "execute_result"
    },
    {
     "data": {
      "image/png": "[encoded data removed]",
      "text/plain": [
       "<Figure size 640x480 with 1 Axes>"
      ]
     },
     "metadata": {},
     "output_type": "display_data"
    }
   ],
   "source": [
    "# gender-rating correlation\n",
    "clean_df.boxplot(\"rating\", by=\"gender\")\n",
    "plt.xticks(rotation=90)"
   ]
  },
  {
   "cell_type": "code",
   "execution_count": 37,
   "id": "b9fabbf8",
   "metadata": {},
   "outputs": [
    {
     "data": {
      "text/plain": [
       "(array([1, 2, 3, 4, 5]),\n",
       " [Text(1, 0, '0.0'),\n",
       "  Text(2, 0, '1.0'),\n",
       "  Text(3, 0, '2.0'),\n",
       "  Text(4, 0, '3.0'),\n",
       "  Text(5, 0, '4.0')])"
      ]
     },
     "execution_count": 37,
     "metadata": {},
     "output_type": "execute_result"
    },
    {
     "data": {
      "image/png": "[encoded data removed]",
      "text/plain": [
       "<Figure size 640x480 with 1 Axes>"
      ]
     },
     "metadata": {},
     "output_type": "display_data"
    }
   ],
   "source": [
    "# helpfulness rating corrrelation\n",
    "clean_df.boxplot(\"rating\", by=\"helpfulness\")\n",
    "plt.xticks(rotation=90)"
   ]
  },
  {
   "cell_type": "markdown",
   "id": "TxD3SLxRqndR",
   "metadata": {
    "id": "TxD3SLxRqndR"
   },
   "source": [
    "#### Q4. Detect and remove outliers\n",
    "\n",
    "We may define outlier users, reviews and items with three rules (if a record meets one of the rules, it is regarded as an outlier):\n",
    "\n",
    "1. reviews of which the helpfulness is no more than 2\n",
    "2. users who rate less than 7 items\n",
    "3. items that receives less than 11 ratings\n",
    "\n",
    "Please remove the corresponding records in the csv file that involves outlier users, reviews and items. You need to follow the order of rules to perform data cleaning operations. After that, __print the length of the data__."
   ]
  },
  {
   "cell_type": "code",
   "execution_count": 38,
   "id": "JaQJmew4qndR",
   "metadata": {
    "id": "JaQJmew4qndR"
   },
   "outputs": [
    {
     "name": "stdout",
     "output_type": "stream",
     "text": [
      "the length of data after removing outlier helpfulness: 13643\n"
     ]
    }
   ],
   "source": [
    "#the reviews of which the helpfulness is no more than 2\n",
    "remove_outlier_df = clean_df.drop(clean_df.index[(clean_df['helpfulness'] <= 2)])\n",
    "print(\"the length of data after removing outlier helpfulness:\", len(remove_outlier_df))"
   ]
  },
  {
   "cell_type": "code",
   "execution_count": 39,
   "id": "b79c0e62",
   "metadata": {},
   "outputs": [
    {
     "name": "stdout",
     "output_type": "stream",
     "text": [
      "The number of users after removing outlier helpfulness: 6535\n"
     ]
    }
   ],
   "source": [
    "# group users by their ids and count the number of their ratings\n",
    "group_user_df = remove_outlier_df.groupby(['userId'])['rating'].count().reset_index(name='count')\n",
    "print(\"The number of users after removing outlier helpfulness:\", len(group_user_df))"
   ]
  },
  {
   "cell_type": "code",
   "execution_count": 46,
   "id": "7876e06a",
   "metadata": {
    "scrolled": true
   },
   "outputs": [
    {
     "data": {
      "text/html": [
       "<div>\n",
       "<style scoped>\n",
       "    .dataframe tbody tr th:only-of-type {\n",
       "        vertical-align: middle;\n",
       "    }\n",
       "\n",
       "    .dataframe tbody tr th {\n",
       "        vertical-align: top;\n",
       "    }\n",
       "\n",
       "    .dataframe thead th {\n",
       "        text-align: right;\n",
       "    }\n",
       "</style>\n",
       "<table border=\"1\" class=\"dataframe\">\n",
       "  <thead>\n",
       "    <tr style=\"text-align: right;\">\n",
       "      <th></th>\n",
       "      <th>userId</th>\n",
       "      <th>count</th>\n",
       "    </tr>\n",
       "  </thead>\n",
       "  <tbody>\n",
       "    <tr>\n",
       "      <th>0</th>\n",
       "      <td>0</td>\n",
       "      <td>3</td>\n",
       "    </tr>\n",
       "    <tr>\n",
       "      <th>1</th>\n",
       "      <td>1</td>\n",
       "      <td>1</td>\n",
       "    </tr>\n",
       "    <tr>\n",
       "      <th>2</th>\n",
       "      <td>2</td>\n",
       "      <td>2</td>\n",
       "    </tr>\n",
       "    <tr>\n",
       "      <th>3</th>\n",
       "      <td>3</td>\n",
       "      <td>2</td>\n",
       "    </tr>\n",
       "    <tr>\n",
       "      <th>4</th>\n",
       "      <td>4</td>\n",
       "      <td>7</td>\n",
       "    </tr>\n",
       "  </tbody>\n",
       "</table>\n",
       "</div>"
      ],
      "text/plain": [
       "   userId  count\n",
       "0       0      3\n",
       "1       1      1\n",
       "2       2      2\n",
       "3       3      2\n",
       "4       4      7"
      ]
     },
     "execution_count": 46,
     "metadata": {},
     "output_type": "execute_result"
    }
   ],
   "source": [
    "group_user_df.head()"
   ]
  },
  {
   "cell_type": "code",
   "execution_count": null,
   "id": "ffb611e0",
   "metadata": {},
   "outputs": [],
   "source": [
    "group_user_df = remove_outlier_df.groupby('userId')['rating'].count().reset_index(name='count')"
   ]
  },
  {
   "cell_type": "code",
   "execution_count": 47,
   "id": "68ecfed8",
   "metadata": {},
   "outputs": [
    {
     "name": "stdout",
     "output_type": "stream",
     "text": [
      "The number of users who have rated less than 7 items: 6268\n"
     ]
    }
   ],
   "source": [
    "# Finding the number of users who have rated less than 7 items\n",
    "outlier_users_less_than_7 = group_user_df[group_user_df['count'] < 7]\n",
    "print(\"The number of users who have rated less than 7 items:\", len(outlier_users_less_than_7))"
   ]
  },
  {
   "cell_type": "code",
   "execution_count": 48,
   "id": "8c173237",
   "metadata": {},
   "outputs": [
    {
     "name": "stdout",
     "output_type": "stream",
     "text": [
      "The number of users after removing outlier users: 2741\n"
     ]
    }
   ],
   "source": [
    "# Remove users who rate less than 7 items\n",
    "remove_outlier_df = remove_outlier_df[~remove_outlier_df['userId'].isin(outlier_users_less_than_7['userId'])]\n",
    "print(\"The number of users after removing outlier users:\", len(remove_outlier_df))"
   ]
  },
  {
   "cell_type": "code",
   "execution_count": 49,
   "id": "8aac8d88",
   "metadata": {},
   "outputs": [
    {
     "name": "stdout",
     "output_type": "stream",
     "text": [
      "                     item  count\n",
      "0    AOL (America Online)     93\n",
      "1           All Advantage     72\n",
      "2   Alta Vista (by 1stUp)     10\n",
      "3              Amazon.com     18\n",
      "4       American Airlines     19\n",
      "..                    ...    ...\n",
      "84                Wendy's     35\n",
      "85      What Lies Beneath     28\n",
      "86                  X-Men     48\n",
      "87                  X.com     19\n",
      "88                   eBay     71\n",
      "\n",
      "[89 rows x 2 columns]\n"
     ]
    }
   ],
   "source": [
    "group_item_df = remove_outlier_df.groupby(['item'])['rating'].count().reset_index(name='count')\n",
    "print(group_item_df)"
   ]
  },
  {
   "cell_type": "code",
   "execution_count": 50,
   "id": "2af8309f",
   "metadata": {},
   "outputs": [
    {
     "name": "stdout",
     "output_type": "stream",
     "text": [
      "82\n"
     ]
    }
   ],
   "source": [
    "# get the names of items have no less than 11 ratings\n",
    "items = group_item_df[group_item_df['count'] >= 11] ['item'].tolist()\n",
    "print(len(items))"
   ]
  },
  {
   "cell_type": "code",
   "execution_count": 51,
   "id": "1badc1cf",
   "metadata": {},
   "outputs": [
    {
     "data": {
      "text/plain": [
       "2685"
      ]
     },
     "execution_count": 51,
     "metadata": {},
     "output_type": "execute_result"
    }
   ],
   "source": [
    "# filter items that have received less than 11 ratings\n",
    "remove_outlier_df = remove_outlier_df[remove_outlier_df['item'].isin(items)]\n",
    "len(remove_outlier_df)"
   ]
  },
  {
   "cell_type": "code",
   "execution_count": 52,
   "id": "5a473a9f",
   "metadata": {},
   "outputs": [],
   "source": [
    "# export the processed data as csv file\n",
    "remove_outlier_df.to_csv ('A combined dataset from ecommerce dataset_cleaned_data.csv', index=False)"
   ]
  },
  {
   "cell_type": "code",
   "execution_count": null,
   "id": "4b85818e",
   "metadata": {},
   "outputs": [],
   "source": []
  }
 ],
 "metadata": {
  "colab": {
   "provenance": []
  },
  "kernelspec": {
   "display_name": "Python 3 (ipykernel)",
   "language": "python",
   "name": "python3"
  },
  "language_info": {
   "codemirror_mode": {
    "name": "ipython",
    "version": 3
   },
   "file_extension": ".py",
   "mimetype": "text/x-python",
   "name": "python",
   "nbconvert_exporter": "python",
   "pygments_lexer": "ipython3",
   "version": "3.11.5"
  }
 },
 "nbformat": 4,
 "nbformat_minor": 5
}
